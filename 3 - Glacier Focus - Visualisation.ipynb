{
 "cells": [
  {
   "cell_type": "markdown",
   "source": [
    "# Grosser Aletschgletscher Visual Assessment "
   ],
   "metadata": {
    "collapsed": false
   },
   "id": "b1022519d85e5aab"
  },
  {
   "cell_type": "code",
   "execution_count": 2,
   "id": "initial_id",
   "metadata": {
    "collapsed": true,
    "ExecuteTime": {
     "end_time": "2024-05-19T08:39:09.309738200Z",
     "start_time": "2024-05-19T08:39:09.300559500Z"
    }
   },
   "outputs": [],
   "source": [
    "import io\n",
    "import os\n",
    "import time\n",
    "import numpy as np\n",
    "import PIL.Image\n",
    "import requests\n",
    "\n",
    "from datetime import datetime, timedelta\n",
    "from PIL import Image"
   ]
  },
  {
   "cell_type": "markdown",
   "source": [
    "## Data Collection and Storage"
   ],
   "metadata": {
    "collapsed": false
   },
   "id": "36137e02ec944f96"
  },
  {
   "cell_type": "code",
   "outputs": [
    {
     "name": "stdout",
     "output_type": "stream",
     "text": [
      "Saved 2019-12-31\n"
     ]
    }
   ],
   "source": [
    "TILE_COL = 167\n",
    "TILE_ROW = 38\n",
    "\n",
    "BASE_URL = \"https://gibs-b.earthdata.nasa.gov/wmts/epsg4326/best/wmts.cgi?TIME=[TIME]&layer=MODIS_Terra_CorrectedReflectance_TrueColor&style=default&tilematrixset=250m&Service=WMTS&Request=GetTile&Version=1.0.0&Format=image%2Fjpeg&TileMatrix=8&TileCol=[TILE_COL]&TileRow=[TILE_ROW]\"\n",
    "\n",
    "def get_data_for_date(date: datetime):\n",
    "    url = BASE_URL.replace(\"[TIME]\", date.strftime(\"%Y-%m-%d\"))\n",
    "    url = url.replace(\"[TILE_COL]\", str(TILE_COL))\n",
    "    url = url.replace(\"[TILE_ROW]\", str(TILE_ROW))\n",
    "    response = requests.get(url, timeout=5)\n",
    "    return response.content\n",
    "\n",
    "def get_image_for_date(date: datetime):\n",
    "    data = get_data_for_date(date)\n",
    "    image = PIL.Image.open(io.BytesIO(data))\n",
    "    return np.array(image)\n",
    "\n",
    "start_date = datetime(2004, 1, 1)\n",
    "end_date = datetime(2020, 1, 1)\n",
    "\n",
    "def retry(func, wait=1):\n",
    "    if wait > 16:\n",
    "        raise Exception(\"Max retries exceeded\")\n",
    "    while True:\n",
    "        try:\n",
    "            return func()\n",
    "        except Exception as e:\n",
    "            time.sleep(wait)\n",
    "            return retry(func, wait * 2)\n",
    "\n",
    "# Create data directory\n",
    "os.makedirs(\"satellite\", exist_ok=True)\n",
    "os.makedirs(f\"satellite/{TILE_COL}_{TILE_ROW}\", exist_ok=True)\n",
    "\n",
    "# check if images are already downloaded (if so, use last date)\n",
    "if os.listdir(f\"satellite/{TILE_COL}_{TILE_ROW}\"):\n",
    "    # Get last date\n",
    "    start_date = \\\n",
    "    sorted([datetime.strptime(file.split(\".\")[0], \"%Y-%m-%d\") for file in os.listdir(f\"satellite/{TILE_COL}_{TILE_ROW}\")])[\n",
    "        -1]\n",
    "\n",
    "for date in [start_date + timedelta(days=i) for i in range((end_date - start_date).days)]:\n",
    "    try:\n",
    "        image = retry(lambda: get_image_for_date(date))\n",
    "        PIL.Image.fromarray(image).save(f\"satellite/{TILE_COL}_{TILE_ROW}/{date.strftime('%Y-%m-%d')}.jpg\")\n",
    "        print(f\"Saved {date.strftime('%Y-%m-%d')}\")\n",
    "    except Exception as e:\n",
    "        print(f\"Error {date.strftime('%Y-%m-%d')}: {e}\")\n",
    "        continue"
   ],
   "metadata": {
    "collapsed": false,
    "ExecuteTime": {
     "end_time": "2024-04-30T13:38:05.063376100Z",
     "start_time": "2024-04-30T13:38:03.746519900Z"
    }
   },
   "id": "3b279022d5c6a2a0",
   "execution_count": 6
  },
  {
   "cell_type": "markdown",
   "source": [
    "## Data Analysis"
   ],
   "metadata": {
    "collapsed": false
   },
   "id": "db7b41c4deb21890"
  },
  {
   "cell_type": "code",
   "outputs": [],
   "source": [
    "\"\"\"\n",
    "Image Analysis\n",
    "\n",
    "For each image in the satellite folder (date (YYYY-MM-DD).jpg), compute the brightness of the image.\n",
    "\"\"\" \n",
    "os.makedirs(\"data/results\", exist_ok=True)\n",
    "\n",
    "for folder in os.listdir(\"satellite\"):\n",
    "    data = []\n",
    "    # open csv\n",
    "    with open(f\"results/{folder}.csv\", \"w\") as f:\n",
    "        f.write(\"date,brightness,white\\n\")\n",
    "        prev_imag = None\n",
    "        for file in sorted(os.listdir(f\"satellite/{folder}\")):\n",
    "            date = file.split(\".\")[0]\n",
    "            image = Image.open(f\"satellite/{folder}/{file}\")\n",
    "            total_brightness = np.mean(image)\n",
    "\n",
    "            if total_brightness < 5 or total_brightness > 245:\n",
    "                print(f\"Skipping {date} due to brightness {total_brightness}\")\n",
    "                if prev_imag is not None:\n",
    "                    image = prev_imag\n",
    "                else:\n",
    "                    continue\n",
    "\n",
    "            prev_imag = image\n",
    "\n",
    "            image = np.array(image)\n",
    "            # Cut image to zone of interest\n",
    "            image = image[300:400, 40:140]\n",
    "            image = np.array(image)\n",
    "            brightness = np.mean(image)\n",
    "\n",
    "            # Compute the percentage of pixels that are \"white\" (each channel > 230)\n",
    "            white = np.mean((image > 230).all(axis=2))\n",
    "\n",
    "            f.write(f\"{date},{brightness},{white}\\n\")\n",
    "            data.append((date, brightness, white))\n",
    "\n",
    "        # Remove if brightness is  < 5 or > 245\n",
    "        data = [(date, white) for date, brightness, white in data if 5 < brightness < 245]\n",
    "\n",
    "        # plot\n",
    "        import matplotlib.pyplot as plt\n",
    "\n",
    "        # Apply moving average\n",
    "        def ma(data, window=25):\n",
    "            # Apply moving average using median\n",
    "            return np.convolve(data, np.ones(window) / window, mode=\"valid\")\n",
    "\n",
    "        dates, brightness = zip(*data)\n",
    "        brightness_ma = ma(brightness)\n",
    "        dates = dates[len(dates) - len(brightness_ma):]\n",
    "        plt.plot(dates, brightness_ma)\n",
    "        plt.title(folder)\n",
    "        # x label is only month\n",
    "        plt.gca().xaxis.set_major_formatter(plt.matplotlib.dates.DateFormatter(\"%Y-%m\"))\n",
    "        plt.xlabel(\"Date\")\n",
    "        plt.ylabel(\"Brightness\")\n",
    "        plt.xticks(rotation=45)\n",
    "        plt.tight_layout()\n",
    "        plt.show()\n",
    "\n",
    "        # Now sum per year to show evolution of whitness\n",
    "        from collections import defaultdict\n",
    "\n",
    "        data_per_year = defaultdict(list)\n",
    "\n",
    "        for date, white in data:\n",
    "            year = date.split(\"-\")[0]\n",
    "            data_per_year[year].append(white)\n",
    "\n",
    "        years = []\n",
    "        white = []\n",
    "        for year, values in data_per_year.items():\n",
    "            years.append(year)\n",
    "            white.append(np.mean(values))\n",
    "\n",
    "        plt.plot(years, white)\n",
    "        plt.title(folder)\n",
    "        plt.xlabel(\"Year\")\n",
    "        plt.ylabel(\"White\")\n",
    "        plt.xticks(rotation=45)\n",
    "        plt.tight_layout()\n",
    "        plt.show()"
   ],
   "metadata": {
    "collapsed": false,
    "ExecuteTime": {
     "start_time": "2024-05-19T08:41:33.020364700Z"
    }
   },
   "id": "8b03a85092c5a69d",
   "execution_count": null
  }
 ],
 "metadata": {
  "kernelspec": {
   "display_name": "Python 3",
   "language": "python",
   "name": "python3"
  },
  "language_info": {
   "codemirror_mode": {
    "name": "ipython",
    "version": 2
   },
   "file_extension": ".py",
   "mimetype": "text/x-python",
   "name": "python",
   "nbconvert_exporter": "python",
   "pygments_lexer": "ipython2",
   "version": "2.7.6"
  }
 },
 "nbformat": 4,
 "nbformat_minor": 5
}
